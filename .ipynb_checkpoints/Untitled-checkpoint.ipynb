{
 "cells": [
  {
   "cell_type": "code",
   "execution_count": 1,
   "metadata": {},
   "outputs": [],
   "source": [
    "import pandas as pd\n",
    "\n",
    "df = pd.read_csv('data.csv')\n",
    "df.head()\n",
    "df = df.rename(index=str, columns={\"Track Name\": \"Trackname\"})"
   ]
  },
  {
   "cell_type": "code",
   "execution_count": 2,
   "metadata": {},
   "outputs": [],
   "source": [
    "import pycountry\n",
    "df['Region'] = df['Region'].str.upper()"
   ]
  },
  {
   "cell_type": "code",
   "execution_count": 3,
   "metadata": {},
   "outputs": [],
   "source": [
    "def convert_region(region):\n",
    "    if region == 'GLOBAL':\n",
    "        return region.title()\n",
    "    return pycountry.countries.get(alpha2=region).name\n",
    "    \n",
    "df['Region'] = df['Region'].apply(convert_region) "
   ]
  },
  {
   "cell_type": "code",
   "execution_count": 4,
   "metadata": {},
   "outputs": [
    {
     "data": {
      "text/html": [
       "<div>\n",
       "<style scoped>\n",
       "    .dataframe tbody tr th:only-of-type {\n",
       "        vertical-align: middle;\n",
       "    }\n",
       "\n",
       "    .dataframe tbody tr th {\n",
       "        vertical-align: top;\n",
       "    }\n",
       "\n",
       "    .dataframe thead th {\n",
       "        text-align: right;\n",
       "    }\n",
       "</style>\n",
       "<table border=\"1\" class=\"dataframe\">\n",
       "  <thead>\n",
       "    <tr style=\"text-align: right;\">\n",
       "      <th></th>\n",
       "      <th>Streams</th>\n",
       "    </tr>\n",
       "    <tr>\n",
       "      <th>Trackname</th>\n",
       "      <th></th>\n",
       "    </tr>\n",
       "  </thead>\n",
       "  <tbody>\n",
       "    <tr>\n",
       "      <th>\"All That Is or Ever Was or Ever Will Be\"</th>\n",
       "      <td>7311</td>\n",
       "    </tr>\n",
       "    <tr>\n",
       "      <th>\"Read All About It, Pt. III\"</th>\n",
       "      <td>57025</td>\n",
       "    </tr>\n",
       "    <tr>\n",
       "      <th>#99</th>\n",
       "      <td>31826</td>\n",
       "    </tr>\n",
       "    <tr>\n",
       "      <th>#Askip</th>\n",
       "      <td>296862</td>\n",
       "    </tr>\n",
       "    <tr>\n",
       "      <th>#Biziz - feat. Lil Bege</th>\n",
       "      <td>403591</td>\n",
       "    </tr>\n",
       "    <tr>\n",
       "      <th>#CTZK</th>\n",
       "      <td>669563</td>\n",
       "    </tr>\n",
       "    <tr>\n",
       "      <th>#Elämänpeli (feat. Touko)</th>\n",
       "      <td>405771</td>\n",
       "    </tr>\n",
       "    <tr>\n",
       "      <th>#HEY!</th>\n",
       "      <td>109035</td>\n",
       "    </tr>\n",
       "    <tr>\n",
       "      <th>#JM</th>\n",
       "      <td>6756985</td>\n",
       "    </tr>\n",
       "    <tr>\n",
       "      <th>#JesuispasséchezSo EP 11</th>\n",
       "      <td>174907</td>\n",
       "    </tr>\n",
       "    <tr>\n",
       "      <th>#LDL</th>\n",
       "      <td>51922</td>\n",
       "    </tr>\n",
       "    <tr>\n",
       "      <th>#Lávkóma</th>\n",
       "      <td>62550</td>\n",
       "    </tr>\n",
       "    <tr>\n",
       "      <th>#Natural</th>\n",
       "      <td>8521151</td>\n",
       "    </tr>\n",
       "    <tr>\n",
       "      <th>#PTD</th>\n",
       "      <td>676409</td>\n",
       "    </tr>\n",
       "    <tr>\n",
       "      <th>#SELFIE</th>\n",
       "      <td>18668</td>\n",
       "    </tr>\n",
       "    <tr>\n",
       "      <th>#Sohavégetnemérős</th>\n",
       "      <td>1032</td>\n",
       "    </tr>\n",
       "    <tr>\n",
       "      <th>#SorryNotSorry - 3onderboy remix</th>\n",
       "      <td>7242</td>\n",
       "    </tr>\n",
       "    <tr>\n",
       "      <th>#Totopirate</th>\n",
       "      <td>56854</td>\n",
       "    </tr>\n",
       "    <tr>\n",
       "      <th>#hashdark</th>\n",
       "      <td>6329</td>\n",
       "    </tr>\n",
       "    <tr>\n",
       "      <th>#háttérzaj</th>\n",
       "      <td>3741</td>\n",
       "    </tr>\n",
       "    <tr>\n",
       "      <th>#santaclara</th>\n",
       "      <td>4273</td>\n",
       "    </tr>\n",
       "    <tr>\n",
       "      <th>#愛</th>\n",
       "      <td>3218</td>\n",
       "    </tr>\n",
       "    <tr>\n",
       "      <th>&amp;Run</th>\n",
       "      <td>7759</td>\n",
       "    </tr>\n",
       "    <tr>\n",
       "      <th>'Till I Collapse</th>\n",
       "      <td>133808040</td>\n",
       "    </tr>\n",
       "    <tr>\n",
       "      <th>(Don't Fear) The Reaper</th>\n",
       "      <td>1404687</td>\n",
       "    </tr>\n",
       "    <tr>\n",
       "      <th>(Everything I Do) I Do It For You</th>\n",
       "      <td>151773</td>\n",
       "    </tr>\n",
       "    <tr>\n",
       "      <th>(I Can't Get No) Satisfaction - Mono Version / Remastered 2002</th>\n",
       "      <td>150228</td>\n",
       "    </tr>\n",
       "    <tr>\n",
       "      <th>(Intro) I'm so Grateful</th>\n",
       "      <td>277571</td>\n",
       "    </tr>\n",
       "    <tr>\n",
       "      <th>(It Must've Been Ol') Santa Claus</th>\n",
       "      <td>212567</td>\n",
       "    </tr>\n",
       "    <tr>\n",
       "      <th>(No One Knows Me) Like the Piano</th>\n",
       "      <td>731142</td>\n",
       "    </tr>\n",
       "    <tr>\n",
       "      <th>...</th>\n",
       "      <td>...</td>\n",
       "    </tr>\n",
       "    <tr>\n",
       "      <th>鼓聲若響</th>\n",
       "      <td>24702</td>\n",
       "    </tr>\n",
       "    <tr>\n",
       "      <th>龍捲風</th>\n",
       "      <td>7829</td>\n",
       "    </tr>\n",
       "    <tr>\n",
       "      <th>龍鬚糖</th>\n",
       "      <td>2299</td>\n",
       "    </tr>\n",
       "    <tr>\n",
       "      <th>가을 아침 [Gaeul Achim] : Autumn morning</th>\n",
       "      <td>2966</td>\n",
       "    </tr>\n",
       "    <tr>\n",
       "      <th>그리워요 Girlfriend</th>\n",
       "      <td>3497</td>\n",
       "    </tr>\n",
       "    <tr>\n",
       "      <th>기억을 걷는 밤 Walk On Memories</th>\n",
       "      <td>114086</td>\n",
       "    </tr>\n",
       "    <tr>\n",
       "      <th>긴 밤이 오면</th>\n",
       "      <td>106637</td>\n",
       "    </tr>\n",
       "    <tr>\n",
       "      <th>날개 Feel So Fine</th>\n",
       "      <td>84106</td>\n",
       "    </tr>\n",
       "    <tr>\n",
       "      <th>낮에 뜨는 별 Starlight</th>\n",
       "      <td>2824</td>\n",
       "    </tr>\n",
       "    <tr>\n",
       "      <th>내가 미쳐 Going Crazy</th>\n",
       "      <td>101344</td>\n",
       "    </tr>\n",
       "    <tr>\n",
       "      <th>너의 손짓 Touch It</th>\n",
       "      <td>120560</td>\n",
       "    </tr>\n",
       "    <tr>\n",
       "      <th>다이아몬드 Diamond</th>\n",
       "      <td>152291</td>\n",
       "    </tr>\n",
       "    <tr>\n",
       "      <th>러시안 룰렛 Russian Roulette</th>\n",
       "      <td>20232</td>\n",
       "    </tr>\n",
       "    <tr>\n",
       "      <th>마지막 첫사랑 My First and Last</th>\n",
       "      <td>26737</td>\n",
       "    </tr>\n",
       "    <tr>\n",
       "      <th>바람이 불면 When The Wind Blows</th>\n",
       "      <td>5007</td>\n",
       "    </tr>\n",
       "    <tr>\n",
       "      <th>바래다줄게 Take You Home</th>\n",
       "      <td>16919</td>\n",
       "    </tr>\n",
       "    <tr>\n",
       "      <th>부메랑 Boomerang</th>\n",
       "      <td>20567</td>\n",
       "    </tr>\n",
       "    <tr>\n",
       "      <th>불타오르네 FIRE</th>\n",
       "      <td>184096</td>\n",
       "    </tr>\n",
       "    <tr>\n",
       "      <th>빨간 맛 Red Flavor</th>\n",
       "      <td>1950750</td>\n",
       "    </tr>\n",
       "    <tr>\n",
       "      <th>사랑 좀 하고 싶어 Real Love - Acoustic Version</th>\n",
       "      <td>2562</td>\n",
       "    </tr>\n",
       "    <tr>\n",
       "      <th>소름 Chill</th>\n",
       "      <td>100259</td>\n",
       "    </tr>\n",
       "    <tr>\n",
       "      <th>수채화 Love in Color</th>\n",
       "      <td>23120</td>\n",
       "    </tr>\n",
       "    <tr>\n",
       "      <th>안녕 못해 I'm Not Okay (From “MISSING 9”)</th>\n",
       "      <td>2454</td>\n",
       "    </tr>\n",
       "    <tr>\n",
       "      <th>에너제틱 Energetic</th>\n",
       "      <td>19898</td>\n",
       "    </tr>\n",
       "    <tr>\n",
       "      <th>여름빛 Mojito</th>\n",
       "      <td>5433</td>\n",
       "    </tr>\n",
       "    <tr>\n",
       "      <th>전야 前夜 The Eve</th>\n",
       "      <td>976392</td>\n",
       "    </tr>\n",
       "    <tr>\n",
       "      <th>지나갈 테니 Been Through</th>\n",
       "      <td>87456</td>\n",
       "    </tr>\n",
       "    <tr>\n",
       "      <th>쩔어 DOPE</th>\n",
       "      <td>209493</td>\n",
       "    </tr>\n",
       "    <tr>\n",
       "      <th>피 땀 눈물</th>\n",
       "      <td>68673</td>\n",
       "    </tr>\n",
       "    <tr>\n",
       "      <th>피카부 Peek-A-Boo</th>\n",
       "      <td>2078217</td>\n",
       "    </tr>\n",
       "  </tbody>\n",
       "</table>\n",
       "<p>18597 rows × 1 columns</p>\n",
       "</div>"
      ],
      "text/plain": [
       "                                                      Streams\n",
       "Trackname                                                    \n",
       "\"All That Is or Ever Was or Ever Will Be\"                7311\n",
       "\"Read All About It, Pt. III\"                            57025\n",
       "#99                                                     31826\n",
       "#Askip                                                 296862\n",
       "#Biziz - feat. Lil Bege                                403591\n",
       "#CTZK                                                  669563\n",
       "#Elämänpeli (feat. Touko)                              405771\n",
       "#HEY!                                                  109035\n",
       "#JM                                                   6756985\n",
       "#JesuispasséchezSo EP 11                               174907\n",
       "#LDL                                                    51922\n",
       "#Lávkóma                                                62550\n",
       "#Natural                                              8521151\n",
       "#PTD                                                   676409\n",
       "#SELFIE                                                 18668\n",
       "#Sohavégetnemérős                                        1032\n",
       "#SorryNotSorry - 3onderboy remix                         7242\n",
       "#Totopirate                                             56854\n",
       "#hashdark                                                6329\n",
       "#háttérzaj                                               3741\n",
       "#santaclara                                              4273\n",
       "#愛                                                       3218\n",
       "&Run                                                     7759\n",
       "'Till I Collapse                                    133808040\n",
       "(Don't Fear) The Reaper                               1404687\n",
       "(Everything I Do) I Do It For You                      151773\n",
       "(I Can't Get No) Satisfaction - Mono Version / ...     150228\n",
       "(Intro) I'm so Grateful                                277571\n",
       "(It Must've Been Ol') Santa Claus                      212567\n",
       "(No One Knows Me) Like the Piano                       731142\n",
       "...                                                       ...\n",
       "鼓聲若響                                                    24702\n",
       "龍捲風                                                      7829\n",
       "龍鬚糖                                                      2299\n",
       "가을 아침 [Gaeul Achim] : Autumn morning                     2966\n",
       "그리워요 Girlfriend                                          3497\n",
       "기억을 걷는 밤 Walk On Memories                              114086\n",
       "긴 밤이 오면                                                106637\n",
       "날개 Feel So Fine                                         84106\n",
       "낮에 뜨는 별 Starlight                                        2824\n",
       "내가 미쳐 Going Crazy                                      101344\n",
       "너의 손짓 Touch It                                         120560\n",
       "다이아몬드 Diamond                                          152291\n",
       "러시안 룰렛 Russian Roulette                                 20232\n",
       "마지막 첫사랑 My First and Last                               26737\n",
       "바람이 불면 When The Wind Blows                               5007\n",
       "바래다줄게 Take You Home                                     16919\n",
       "부메랑 Boomerang                                           20567\n",
       "불타오르네 FIRE                                             184096\n",
       "빨간 맛 Red Flavor                                       1950750\n",
       "사랑 좀 하고 싶어 Real Love - Acoustic Version                  2562\n",
       "소름 Chill                                               100259\n",
       "수채화 Love in Color                                       23120\n",
       "안녕 못해 I'm Not Okay (From “MISSING 9”)                    2454\n",
       "에너제틱 Energetic                                          19898\n",
       "여름빛 Mojito                                               5433\n",
       "전야 前夜 The Eve                                          976392\n",
       "지나갈 테니 Been Through                                     87456\n",
       "쩔어 DOPE                                                209493\n",
       "피 땀 눈물                                                  68673\n",
       "피카부 Peek-A-Boo                                        2078217\n",
       "\n",
       "[18597 rows x 1 columns]"
      ]
     },
     "execution_count": 4,
     "metadata": {},
     "output_type": "execute_result"
    }
   ],
   "source": [
    "df.groupby(['Trackname'])[['Streams']].sum()"
   ]
  },
  {
   "cell_type": "code",
   "execution_count": 5,
   "metadata": {},
   "outputs": [
    {
     "data": {
      "text/html": [
       "<div>\n",
       "<style scoped>\n",
       "    .dataframe tbody tr th:only-of-type {\n",
       "        vertical-align: middle;\n",
       "    }\n",
       "\n",
       "    .dataframe tbody tr th {\n",
       "        vertical-align: top;\n",
       "    }\n",
       "\n",
       "    .dataframe thead th {\n",
       "        text-align: right;\n",
       "    }\n",
       "</style>\n",
       "<table border=\"1\" class=\"dataframe\">\n",
       "  <thead>\n",
       "    <tr style=\"text-align: right;\">\n",
       "      <th></th>\n",
       "      <th>Position</th>\n",
       "      <th>Streams</th>\n",
       "    </tr>\n",
       "  </thead>\n",
       "  <tbody>\n",
       "    <tr>\n",
       "      <th>count</th>\n",
       "      <td>3.441197e+06</td>\n",
       "      <td>3.441197e+06</td>\n",
       "    </tr>\n",
       "    <tr>\n",
       "      <th>mean</th>\n",
       "      <td>9.464399e+01</td>\n",
       "      <td>5.189176e+04</td>\n",
       "    </tr>\n",
       "    <tr>\n",
       "      <th>std</th>\n",
       "      <td>5.739567e+01</td>\n",
       "      <td>2.018035e+05</td>\n",
       "    </tr>\n",
       "    <tr>\n",
       "      <th>min</th>\n",
       "      <td>1.000000e+00</td>\n",
       "      <td>1.001000e+03</td>\n",
       "    </tr>\n",
       "    <tr>\n",
       "      <th>25%</th>\n",
       "      <td>4.500000e+01</td>\n",
       "      <td>3.322000e+03</td>\n",
       "    </tr>\n",
       "    <tr>\n",
       "      <th>50%</th>\n",
       "      <td>9.200000e+01</td>\n",
       "      <td>9.227000e+03</td>\n",
       "    </tr>\n",
       "    <tr>\n",
       "      <th>75%</th>\n",
       "      <td>1.430000e+02</td>\n",
       "      <td>2.965800e+04</td>\n",
       "    </tr>\n",
       "    <tr>\n",
       "      <th>max</th>\n",
       "      <td>2.000000e+02</td>\n",
       "      <td>1.138152e+07</td>\n",
       "    </tr>\n",
       "  </tbody>\n",
       "</table>\n",
       "</div>"
      ],
      "text/plain": [
       "           Position       Streams\n",
       "count  3.441197e+06  3.441197e+06\n",
       "mean   9.464399e+01  5.189176e+04\n",
       "std    5.739567e+01  2.018035e+05\n",
       "min    1.000000e+00  1.001000e+03\n",
       "25%    4.500000e+01  3.322000e+03\n",
       "50%    9.200000e+01  9.227000e+03\n",
       "75%    1.430000e+02  2.965800e+04\n",
       "max    2.000000e+02  1.138152e+07"
      ]
     },
     "execution_count": 5,
     "metadata": {},
     "output_type": "execute_result"
    }
   ],
   "source": [
    "df.describe()"
   ]
  },
  {
   "cell_type": "code",
   "execution_count": 6,
   "metadata": {},
   "outputs": [
    {
     "data": {
      "text/plain": [
       "18598"
      ]
     },
     "execution_count": 6,
     "metadata": {},
     "output_type": "execute_result"
    }
   ],
   "source": [
    "df['Trackname'].unique().size"
   ]
  },
  {
   "cell_type": "code",
   "execution_count": 7,
   "metadata": {},
   "outputs": [
    {
     "data": {
      "text/plain": [
       "6629"
      ]
     },
     "execution_count": 7,
     "metadata": {},
     "output_type": "execute_result"
    }
   ],
   "source": [
    "df['Artist'].unique().size"
   ]
  },
  {
   "cell_type": "code",
   "execution_count": 8,
   "metadata": {},
   "outputs": [
    {
     "data": {
      "text/plain": [
       "54"
      ]
     },
     "execution_count": 8,
     "metadata": {},
     "output_type": "execute_result"
    }
   ],
   "source": [
    "df['Region'].unique().size"
   ]
  },
  {
   "cell_type": "code",
   "execution_count": 9,
   "metadata": {},
   "outputs": [
    {
     "data": {
      "text/plain": [
       "array(['Ecuador', 'France', 'Argentina', 'Finland', 'Norway', 'Italy',\n",
       "       'Lithuania', 'Philippines', 'Taiwan, Province of China',\n",
       "       'New Zealand', 'Estonia', 'Turkey', 'United States', 'El Salvador',\n",
       "       'Costa Rica', 'Germany', 'Chile', 'Japan', 'Brazil', 'Honduras',\n",
       "       'Guatemala', 'Switzerland', 'Hungary', 'Canada', 'Peru', 'Belgium',\n",
       "       'Malaysia', 'Denmark', 'Bolivia, Plurinational State of', 'Poland',\n",
       "       'Austria', 'Portugal', 'Sweden', 'Mexico', 'Panama', 'Uruguay',\n",
       "       'Iceland', 'Spain', 'Czech Republic', 'Ireland', 'Netherlands',\n",
       "       'Slovakia', 'Colombia', 'Singapore', 'Indonesia',\n",
       "       'Dominican Republic', 'Luxembourg', 'United Kingdom', 'Global',\n",
       "       'Paraguay', 'Australia', 'Latvia', 'Greece', 'Hong Kong'],\n",
       "      dtype=object)"
      ]
     },
     "execution_count": 9,
     "metadata": {},
     "output_type": "execute_result"
    }
   ],
   "source": [
    "df['Region'].unique()"
   ]
  },
  {
   "cell_type": "code",
   "execution_count": 10,
   "metadata": {},
   "outputs": [],
   "source": [
    "unique_artist_by_country = df.groupby(['Region'])['Artist'].unique()"
   ]
  },
  {
   "cell_type": "code",
   "execution_count": 11,
   "metadata": {},
   "outputs": [],
   "source": [
    "artists_appear_in_country = [artist for row in unique_artist_by_country for artist in row]\n",
    "n_countries = df['Region'].nunique()"
   ]
  },
  {
   "cell_type": "code",
   "execution_count": 12,
   "metadata": {},
   "outputs": [],
   "source": [
    "from collections import Counter\n",
    "artist_country_appears = pd.DataFrame.from_dict(Counter(artists_appear_in_country), orient='index', )"
   ]
  },
  {
   "cell_type": "code",
   "execution_count": 13,
   "metadata": {},
   "outputs": [],
   "source": [
    "artist_country_appears.columns = ['Countries']"
   ]
  },
  {
   "cell_type": "code",
   "execution_count": 14,
   "metadata": {},
   "outputs": [],
   "source": [
    "artist_country_appears.reset_index(level=0, inplace=True)"
   ]
  },
  {
   "cell_type": "code",
   "execution_count": 15,
   "metadata": {},
   "outputs": [],
   "source": [
    "artist_country_appears = artist_country_appears.rename(index=str, columns= {\"index\":\"Artist\"})"
   ]
  },
  {
   "cell_type": "code",
   "execution_count": 19,
   "metadata": {},
   "outputs": [
    {
     "data": {
      "text/plain": [
       "<matplotlib.axes._subplots.AxesSubplot at 0x1135819b0>"
      ]
     },
     "execution_count": 19,
     "metadata": {},
     "output_type": "execute_result"
    },
    {
     "data": {
      "image/png": "[encoded data removed]",
      "text/plain": [
       "<matplotlib.figure.Figure at 0x113555e80>"
      ]
     },
     "metadata": {},
     "output_type": "display_data"
    }
   ],
   "source": [
    "import matplotlib\n",
    "%matplotlib inline\n",
    "\n",
    "# Histogram of the Number of Countries Each Artist Appears in\n",
    "artist_country_appears['Countries'].hist()"
   ]
  },
  {
   "cell_type": "code",
   "execution_count": 23,
   "metadata": {},
   "outputs": [
    {
     "data": {
      "text/plain": [
       "<matplotlib.axes._subplots.AxesSubplot at 0x1138347f0>"
      ]
     },
     "execution_count": 23,
     "metadata": {},
     "output_type": "execute_result"
    },
    {
     "data": {
      "image/png": "[encoded data removed]",
      "text/plain": [
       "<matplotlib.figure.Figure at 0x1135b95c0>"
      ]
     },
     "metadata": {},
     "output_type": "display_data"
    }
   ],
   "source": [
    "# Spread of number of countries artists appear in where artists appear in more than 5 countries\n",
    "artist_country_appears[artist_country_appears['Countries'] > 5]['Countries'].hist()"
   ]
  },
  {
   "cell_type": "code",
   "execution_count": 30,
   "metadata": {},
   "outputs": [
    {
     "ename": "AttributeError",
     "evalue": "'DataFrame' object has no attribute 'sort'",
     "output_type": "error",
     "traceback": [
      "\u001b[0;31m---------------------------------------------------------------------------\u001b[0m",
      "\u001b[0;31mAttributeError\u001b[0m                            Traceback (most recent call last)",
      "\u001b[0;32m<ipython-input-30-4282d4b4a60d>\u001b[0m in \u001b[0;36m<module>\u001b[0;34m()\u001b[0m\n\u001b[1;32m      1\u001b[0m \u001b[0martist_country_appears\u001b[0m\u001b[0;34m[\u001b[0m\u001b[0;34m'Percent'\u001b[0m\u001b[0;34m]\u001b[0m \u001b[0;34m=\u001b[0m \u001b[0;36m100.0\u001b[0m \u001b[0;34m*\u001b[0m \u001b[0martist_country_appears\u001b[0m\u001b[0;34m[\u001b[0m\u001b[0;34m'Countries'\u001b[0m\u001b[0;34m]\u001b[0m \u001b[0;34m/\u001b[0m \u001b[0mn_countries\u001b[0m\u001b[0;34m\u001b[0m\u001b[0m\n\u001b[0;32m----> 2\u001b[0;31m \u001b[0martist_country_appears\u001b[0m\u001b[0;34m[\u001b[0m\u001b[0martist_country_appears\u001b[0m\u001b[0;34m[\u001b[0m\u001b[0;34m'Countries'\u001b[0m\u001b[0;34m]\u001b[0m \u001b[0;34m>\u001b[0m \u001b[0;36m30\u001b[0m\u001b[0;34m]\u001b[0m\u001b[0;34m.\u001b[0m\u001b[0msort\u001b[0m\u001b[0;34m(\u001b[0m\u001b[0;34m)\u001b[0m\u001b[0;34m\u001b[0m\u001b[0m\n\u001b[0m",
      "\u001b[0;32m~/miniconda3/lib/python3.6/site-packages/pandas/core/generic.py\u001b[0m in \u001b[0;36m__getattr__\u001b[0;34m(self, name)\u001b[0m\n\u001b[1;32m   3612\u001b[0m             \u001b[0;32mif\u001b[0m \u001b[0mname\u001b[0m \u001b[0;32min\u001b[0m \u001b[0mself\u001b[0m\u001b[0;34m.\u001b[0m\u001b[0m_info_axis\u001b[0m\u001b[0;34m:\u001b[0m\u001b[0;34m\u001b[0m\u001b[0m\n\u001b[1;32m   3613\u001b[0m                 \u001b[0;32mreturn\u001b[0m \u001b[0mself\u001b[0m\u001b[0;34m[\u001b[0m\u001b[0mname\u001b[0m\u001b[0;34m]\u001b[0m\u001b[0;34m\u001b[0m\u001b[0m\n\u001b[0;32m-> 3614\u001b[0;31m             \u001b[0;32mreturn\u001b[0m \u001b[0mobject\u001b[0m\u001b[0;34m.\u001b[0m\u001b[0m__getattribute__\u001b[0m\u001b[0;34m(\u001b[0m\u001b[0mself\u001b[0m\u001b[0;34m,\u001b[0m \u001b[0mname\u001b[0m\u001b[0;34m)\u001b[0m\u001b[0;34m\u001b[0m\u001b[0m\n\u001b[0m\u001b[1;32m   3615\u001b[0m \u001b[0;34m\u001b[0m\u001b[0m\n\u001b[1;32m   3616\u001b[0m     \u001b[0;32mdef\u001b[0m \u001b[0m__setattr__\u001b[0m\u001b[0;34m(\u001b[0m\u001b[0mself\u001b[0m\u001b[0;34m,\u001b[0m \u001b[0mname\u001b[0m\u001b[0;34m,\u001b[0m \u001b[0mvalue\u001b[0m\u001b[0;34m)\u001b[0m\u001b[0;34m:\u001b[0m\u001b[0;34m\u001b[0m\u001b[0m\n",
      "\u001b[0;31mAttributeError\u001b[0m: 'DataFrame' object has no attribute 'sort'"
     ]
    }
   ],
   "source": [
    "artist_country_appears['Percent'] = 100.0 * artist_country_appears['Countries'] / n_countries\n",
    "artist_country_appears[artist_country_appears['Countries'] > 30]"
   ]
  },
  {
   "cell_type": "code",
   "execution_count": null,
   "metadata": {},
   "outputs": [],
   "source": []
  }
 ],
 "metadata": {
  "kernelspec": {
   "display_name": "Python 3",
   "language": "python",
   "name": "python3"
  },
  "language_info": {
   "codemirror_mode": {
    "name": "ipython",
    "version": 3
   },
   "file_extension": ".py",
   "mimetype": "text/x-python",
   "name": "python",
   "nbconvert_exporter": "python",
   "pygments_lexer": "ipython3",
   "version": "3.6.3"
  }
 },
 "nbformat": 4,
 "nbformat_minor": 2
}
